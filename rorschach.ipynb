{
 "cells": [
  {
   "cell_type": "markdown",
   "metadata": {},
   "source": [
    "# Rorschach for Deep Learning\n",
    "A simple assessment of the most popular image classifiers using the famous Rorschach Test cards.\n",
    "\n",
    "### Resources \n",
    "The following links were used:\n",
    "- https://keras.io/applications/\n",
    "- https://machinelearningmastery.com/use-pre-trained-vgg-model-classify-objects-photographs/\n",
    "\n",
    "### Requirements\n",
    "Make sure you use Keras >= 2.2.0 for all of the libraries.\n",
    "I recommend Tensorflow >= 1.7.0, otherwise you might get an error related to the axis parameter of the softmax activation.\n"
   ]
  },
  {
   "cell_type": "markdown",
   "metadata": {},
   "source": [
    "# 1. Load data and libraries"
   ]
  },
  {
   "cell_type": "markdown",
   "metadata": {},
   "source": [
    "### Load list of images"
   ]
  },
  {
   "cell_type": "code",
   "execution_count": null,
   "metadata": {},
   "outputs": [],
   "source": [
    "import glob\n",
    "\n",
    "images = glob.glob(\"cards/*.jpg\")\n",
    "\n",
    "for file in images:\n",
    "    print(\"Found\", file)"
   ]
  },
  {
   "cell_type": "markdown",
   "metadata": {},
   "source": [
    "### Load general libraries"
   ]
  },
  {
   "cell_type": "code",
   "execution_count": null,
   "metadata": {},
   "outputs": [],
   "source": [
    "from keras.preprocessing import image\n",
    "from keras.preprocessing.image import load_img\n",
    "from keras.preprocessing.image import img_to_array\n",
    "from keras.models import Model\n",
    "import keras.backend as K\n",
    "import numpy as np\n",
    "import pandas as pd\n",
    "import json"
   ]
  },
  {
   "cell_type": "markdown",
   "metadata": {},
   "source": [
    "### Create standard image prep and evaluation function\n",
    "\n",
    "Since all of the libraries run the same preparation, minus the input vectors and label functions, it makes sense to consolidate all of the activities here."
   ]
  },
  {
   "cell_type": "code",
   "execution_count": null,
   "metadata": {},
   "outputs": [],
   "source": [
    "def getLabels(model, dims, pi, dp):\n",
    "    \"\"\"\n",
    "    This method takes the model of interest, the shape of the input vector, and both \n",
    "    the preprocess_input() method and the decode_predictions() method unique to the model.\n",
    "    \n",
    "    \"\"\"\n",
    "\n",
    "    df = pd.DataFrame()\n",
    "    \n",
    "    for img_path in images:\n",
    "\n",
    "        # Resize image array\n",
    "        image = load_img(img_path, target_size=(dims, dims))\n",
    "        image = img_to_array(image)\n",
    "        image = image.reshape((1, image.shape[0], image.shape[1], image.shape[2]))\n",
    "        image = pi(image)\n",
    "        \n",
    "        # Predict what is in the image\n",
    "        yhat = model.predict(image)\n",
    "        \n",
    "        # return the top 10 labels\n",
    "        labels = dp(yhat, top=10)[0]\n",
    "\n",
    "        # create empty list and counter\n",
    "        labellist = []\n",
    "        counter = 0\n",
    "        \n",
    "        # get labels for each image\n",
    "        for label in labels:\n",
    "            print('%s (%.2f%%)' % (label[1], label[2]*100))\n",
    "            \n",
    "            # Add image results to list\n",
    "            labellist.append(\n",
    "                {\"labelnumber\":counter, \n",
    "                 \"labelname\"  :label[1], \n",
    "                 \"pct\"        :'%.2f%%' % (label[2]*100), \n",
    "                 \"image\"      :img_path})\n",
    "            counter = counter + 1\n",
    "            \n",
    "        # Add to dataframe\n",
    "        df_row = pd.Series()\n",
    "        df_row = pd.read_json(json.dumps(labellist), typ='frame', orient='records')\n",
    "        df = df.append(df_row,ignore_index=True)\n",
    "        print(\"------------\")\n",
    "    \n",
    "    return df\n",
    "\n",
    "print(\"getLabels() function loaded.\")"
   ]
  },
  {
   "cell_type": "markdown",
   "metadata": {},
   "source": [
    "## ResNet50 Assessment"
   ]
  },
  {
   "cell_type": "code",
   "execution_count": null,
   "metadata": {},
   "outputs": [],
   "source": [
    "from keras.applications.resnet50 import ResNet50\n",
    "from keras.applications.resnet50 import preprocess_input\n",
    "from keras.applications.resnet50 import decode_predictions\n",
    "\n",
    "model = ResNet50(weights='imagenet')\n",
    "\n",
    "df = getLabels(model, 224, preprocess_input, decode_predictions)\n",
    "df.to_csv('results/results_resnet50.csv', index=False)\n",
    "\n",
    "K.clear_session()"
   ]
  },
  {
   "cell_type": "markdown",
   "metadata": {},
   "source": [
    "## VGG16 Assessment"
   ]
  },
  {
   "cell_type": "code",
   "execution_count": null,
   "metadata": {},
   "outputs": [],
   "source": [
    "from keras.applications.vgg16 import VGG16\n",
    "from keras.applications.vgg16 import preprocess_input\n",
    "from keras.applications.vgg16 import decode_predictions\n",
    "\n",
    "model = VGG16()\n",
    "\n",
    "df = getLabels(model, 224, preprocess_input, decode_predictions)\n",
    "df.to_csv('results/results_vgg16.csv', index=False)\n",
    "\n",
    "K.clear_session()"
   ]
  },
  {
   "cell_type": "markdown",
   "metadata": {},
   "source": [
    "## VGG19 Assessment"
   ]
  },
  {
   "cell_type": "code",
   "execution_count": null,
   "metadata": {},
   "outputs": [],
   "source": [
    "from keras.applications.vgg19 import VGG19\n",
    "from keras.applications.vgg19 import preprocess_input\n",
    "from keras.applications.vgg19 import decode_predictions\n",
    "\n",
    "model = VGG19(weights='imagenet')\n",
    "\n",
    "df = getLabels(model, 224, preprocess_input, decode_predictions)\n",
    "df.to_csv('results/results_vgg19.csv', index=False)\n",
    "\n",
    "K.clear_session()"
   ]
  },
  {
   "cell_type": "markdown",
   "metadata": {},
   "source": [
    "## Inception V3 assessment"
   ]
  },
  {
   "cell_type": "code",
   "execution_count": null,
   "metadata": {},
   "outputs": [],
   "source": [
    "from keras.applications.inception_v3 import InceptionV3\n",
    "from keras.applications.inception_v3 import preprocess_input\n",
    "from keras.applications.inception_v3 import decode_predictions\n",
    "\n",
    "model = InceptionV3(weights='imagenet')\n",
    "\n",
    "df = getLabels(model, 299, preprocess_input, decode_predictions)\n",
    "df.to_csv('results/results_inceptionv3.csv', index=False)\n",
    "\n",
    "K.clear_session()"
   ]
  },
  {
   "cell_type": "markdown",
   "metadata": {},
   "source": [
    "## Inception / ResNet V2 Assessment"
   ]
  },
  {
   "cell_type": "code",
   "execution_count": null,
   "metadata": {},
   "outputs": [],
   "source": [
    "from keras.applications.inception_resnet_v2 import InceptionResNetV2\n",
    "from keras.applications.inception_resnet_v2 import preprocess_input\n",
    "from keras.applications.inception_resnet_v2 import decode_predictions\n",
    "\n",
    "model = InceptionResNetV2(weights='imagenet')\n",
    "\n",
    "df = getLabels(model, 299, preprocess_input, decode_predictions)\n",
    "df.to_csv('results/results_inceptionresnetv2.csv', index=False)\n",
    "\n",
    "K.clear_session()"
   ]
  },
  {
   "cell_type": "markdown",
   "metadata": {},
   "source": [
    "## MobileNet Assessment"
   ]
  },
  {
   "cell_type": "code",
   "execution_count": null,
   "metadata": {},
   "outputs": [],
   "source": [
    "from keras.applications.mobilenet import MobileNet\n",
    "from keras.applications.mobilenet import preprocess_input\n",
    "from keras.applications.mobilenet import decode_predictions\n",
    "\n",
    "model = MobileNet(weights='imagenet')\n",
    "\n",
    "df = getLabels(model, 224, preprocess_input, decode_predictions)\n",
    "df.to_csv('results/results_mobilenet.csv', index=False)\n",
    "\n",
    "K.clear_session()"
   ]
  },
  {
   "cell_type": "markdown",
   "metadata": {},
   "source": [
    "## DenseNet 121 Assessment"
   ]
  },
  {
   "cell_type": "code",
   "execution_count": null,
   "metadata": {},
   "outputs": [],
   "source": [
    "from keras.applications.densenet import DenseNet121\n",
    "from keras.applications.densenet import preprocess_input\n",
    "from keras.applications.densenet import decode_predictions\n",
    "\n",
    "model = DenseNet121(weights='imagenet')\n",
    "\n",
    "df = getLabels(model, 224, preprocess_input, decode_predictions)\n",
    "df.to_csv('results/results_densenet121.csv', index=False)\n",
    "\n",
    "K.clear_session()"
   ]
  },
  {
   "cell_type": "markdown",
   "metadata": {},
   "source": [
    "## DenseNet 169 Assessment"
   ]
  },
  {
   "cell_type": "code",
   "execution_count": null,
   "metadata": {},
   "outputs": [],
   "source": [
    "from keras.applications.densenet import DenseNet169\n",
    "from keras.applications.densenet import preprocess_input\n",
    "from keras.applications.densenet import decode_predictions\n",
    "\n",
    "model = DenseNet169(weights='imagenet')\n",
    "\n",
    "df = getLabels(model, 224, preprocess_input, decode_predictions)\n",
    "df.to_csv('results/results_densenet169.csv', index=False)\n",
    "\n",
    "K.clear_session()"
   ]
  },
  {
   "cell_type": "markdown",
   "metadata": {},
   "source": [
    "## DenseNet 201 Assessment"
   ]
  },
  {
   "cell_type": "code",
   "execution_count": null,
   "metadata": {},
   "outputs": [],
   "source": [
    "from keras.applications.densenet import DenseNet201\n",
    "from keras.applications.densenet import preprocess_input\n",
    "from keras.applications.densenet import decode_predictions\n",
    "\n",
    "model = DenseNet201(weights='imagenet')\n",
    "\n",
    "df = getLabels(model, 224, preprocess_input, decode_predictions)\n",
    "df.to_csv('results/results_densenet201.csv', index=False)\n",
    "\n",
    "K.clear_session()"
   ]
  },
  {
   "cell_type": "markdown",
   "metadata": {},
   "source": [
    "## Xception Assessment"
   ]
  },
  {
   "cell_type": "code",
   "execution_count": null,
   "metadata": {},
   "outputs": [],
   "source": [
    "from keras.applications.xception import Xception\n",
    "from keras.applications.xception import preprocess_input\n",
    "from keras.applications.xception import decode_predictions\n",
    "\n",
    "model = Xception(weights='imagenet')\n",
    "\n",
    "df = getLabels(model, 224, preprocess_input, decode_predictions)\n",
    "df.to_csv('results/results_xception.csv', index=False)\n",
    "\n",
    "K.clear_session()"
   ]
  },
  {
   "cell_type": "markdown",
   "metadata": {},
   "source": [
    "## NASNetMobile Assessment"
   ]
  },
  {
   "cell_type": "code",
   "execution_count": null,
   "metadata": {},
   "outputs": [],
   "source": [
    "from keras.applications.nasnet import NASNetMobile\n",
    "from keras.applications.nasnet import preprocess_input\n",
    "from keras.applications.nasnet import decode_predictions\n",
    "\n",
    "model = NASNetMobile(weights='imagenet')\n",
    "\n",
    "df = getLabels(model, 224, preprocess_input, decode_predictions)\n",
    "df.to_csv('results/results_nasnetmobile.csv', index=False)\n",
    "\n",
    "K.clear_session()"
   ]
  },
  {
   "cell_type": "markdown",
   "metadata": {},
   "source": [
    "## Run NASNetLarge Assessment"
   ]
  },
  {
   "cell_type": "code",
   "execution_count": null,
   "metadata": {},
   "outputs": [],
   "source": [
    "from keras.applications.nasnet import NASNetLarge\n",
    "from keras.applications.nasnet import preprocess_input\n",
    "from keras.applications.nasnet import decode_predictions\n",
    "\n",
    "model = NASNetLarge(weights='imagenet')\n",
    "\n",
    "df = getLabels(model, 331, preprocess_input, decode_predictions)\n",
    "df.to_csv('results/results_nasnetlarge.csv', index=False)\n",
    "\n",
    "K.clear_session()"
   ]
  },
  {
   "cell_type": "markdown",
   "metadata": {},
   "source": [
    "# Assemble all the CSVs!\n",
    "Now that each model has an output, "
   ]
  },
  {
   "cell_type": "code",
   "execution_count": null,
   "metadata": {},
   "outputs": [],
   "source": [
    "import glob\n",
    "\n",
    "# Create assembly dataframe\n",
    "df = pd.DataFrame()\n",
    "\n",
    "# Read each file and append data\n",
    "for file in glob.glob(\"results/*.csv\"):\n",
    "    print(\"reading\", file)\n",
    "    tempdf = pd.read_csv(file)\n",
    "    tempdf['filename'] = file.lstrip('results\\\\results_').rstrip('.csv')\n",
    "    df = df.append(tempdf)\n",
    "\n",
    "# Convert percentage signs to floats    \n",
    "df['pct'] = df['pct'].str.rstrip('%').astype('float')"
   ]
  },
  {
   "cell_type": "code",
   "execution_count": null,
   "metadata": {},
   "outputs": [],
   "source": [
    "# Save all results\n",
    "df.to_csv('results/results_all.csv')"
   ]
  },
  {
   "cell_type": "markdown",
   "metadata": {},
   "source": [
    "### Find the first choices"
   ]
  },
  {
   "cell_type": "code",
   "execution_count": null,
   "metadata": {},
   "outputs": [],
   "source": [
    "for img_path in images:\n",
    "    firstdf = df[df['image'] == img_path].sort_values(['image', 'pct'], ascending=[True, False])\n",
    "    print(\"Picture:\", img_path)\n",
    "    display(firstdf)\n",
    "    \n",
    "    # find the top value of each \n",
    "    sortedfirstdf = firstdf[['filename', 'labelname', 'pct']].groupby('filename').first().sort_values(['pct'], ascending=[False])\n",
    "    display(sortedfirstdf)\n",
    "    \n",
    "    # Add up the beliefs of each and group by label name\n",
    "    values = sortedfirstdf[['labelname', 'pct']].groupby(['labelname']).sum().sort_values(['pct'], ascending=[False])\n",
    "    display(values)\n",
    "    "
   ]
  }
 ],
 "metadata": {
  "kernelspec": {
   "display_name": "Python 3",
   "language": "python",
   "name": "python3"
  },
  "language_info": {
   "codemirror_mode": {
    "name": "ipython",
    "version": 3
   },
   "file_extension": ".py",
   "mimetype": "text/x-python",
   "name": "python",
   "nbconvert_exporter": "python",
   "pygments_lexer": "ipython3",
   "version": "3.5.4"
  }
 },
 "nbformat": 4,
 "nbformat_minor": 2
}
